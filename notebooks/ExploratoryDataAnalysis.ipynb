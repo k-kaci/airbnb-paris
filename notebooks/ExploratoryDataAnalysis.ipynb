{
 "cells": [
  {
   "cell_type": "markdown",
   "metadata": {},
   "source": [
    "# 1 -  Import Libraries"
   ]
  },
  {
   "cell_type": "code",
   "execution_count": 72,
   "metadata": {},
   "outputs": [],
   "source": [
    "import numpy as np \n",
    "import pandas as pd\n",
    "\n",
    "%matplotlib inline\n",
    "import matplotlib.pyplot as plt\n",
    "import seaborn as sns"
   ]
  },
  {
   "cell_type": "markdown",
   "metadata": {},
   "source": [
    "# 2 - Data Exploratory, Visualisation, Cleaning"
   ]
  },
  {
   "cell_type": "markdown",
   "metadata": {},
   "source": [
    "## 2.1 - Load the data"
   ]
  },
  {
   "cell_type": "code",
   "execution_count": 79,
   "metadata": {},
   "outputs": [],
   "source": [
    "train_data = pd.read_csv('../input/airbnb_052020_dataset.csv', dtype={\"zipcode\": np.string_}).set_index('id')"
   ]
  },
  {
   "cell_type": "code",
   "execution_count": 77,
   "metadata": {},
   "outputs": [
    {
     "data": {
      "text/html": [
       "<div>\n",
       "<style scoped>\n",
       "    .dataframe tbody tr th:only-of-type {\n",
       "        vertical-align: middle;\n",
       "    }\n",
       "\n",
       "    .dataframe tbody tr th {\n",
       "        vertical-align: top;\n",
       "    }\n",
       "\n",
       "    .dataframe thead th {\n",
       "        text-align: right;\n",
       "    }\n",
       "</style>\n",
       "<table border=\"1\" class=\"dataframe\">\n",
       "  <thead>\n",
       "    <tr style=\"text-align: right;\">\n",
       "      <th></th>\n",
       "      <th>zipcode</th>\n",
       "      <th>latitude</th>\n",
       "      <th>longitude</th>\n",
       "      <th>neighbourhood_cleansed</th>\n",
       "      <th>is_location_exact</th>\n",
       "      <th>bedrooms</th>\n",
       "      <th>room_type</th>\n",
       "      <th>bathrooms</th>\n",
       "      <th>beds</th>\n",
       "      <th>bed_type</th>\n",
       "      <th>...</th>\n",
       "      <th>host_is_superhost</th>\n",
       "      <th>host_total_listings_count</th>\n",
       "      <th>host_identity_verified</th>\n",
       "      <th>minimum_nights</th>\n",
       "      <th>maximum_nights</th>\n",
       "      <th>availability_365</th>\n",
       "      <th>is_instant_bookable</th>\n",
       "      <th>cancellation_policy</th>\n",
       "      <th>is_new_price</th>\n",
       "      <th>price</th>\n",
       "    </tr>\n",
       "    <tr>\n",
       "      <th>id</th>\n",
       "      <th></th>\n",
       "      <th></th>\n",
       "      <th></th>\n",
       "      <th></th>\n",
       "      <th></th>\n",
       "      <th></th>\n",
       "      <th></th>\n",
       "      <th></th>\n",
       "      <th></th>\n",
       "      <th></th>\n",
       "      <th></th>\n",
       "      <th></th>\n",
       "      <th></th>\n",
       "      <th></th>\n",
       "      <th></th>\n",
       "      <th></th>\n",
       "      <th></th>\n",
       "      <th></th>\n",
       "      <th></th>\n",
       "      <th></th>\n",
       "      <th></th>\n",
       "    </tr>\n",
       "  </thead>\n",
       "  <tbody>\n",
       "    <tr>\n",
       "      <th>27041946</th>\n",
       "      <td>75013.0</td>\n",
       "      <td>48.82773</td>\n",
       "      <td>2.34844</td>\n",
       "      <td>Gobelins</td>\n",
       "      <td>1</td>\n",
       "      <td>0.0</td>\n",
       "      <td>Entire home/apt</td>\n",
       "      <td>1.0</td>\n",
       "      <td>1.0</td>\n",
       "      <td>Bed</td>\n",
       "      <td>...</td>\n",
       "      <td>0.0</td>\n",
       "      <td>1.0</td>\n",
       "      <td>0</td>\n",
       "      <td>14</td>\n",
       "      <td>15</td>\n",
       "      <td>0</td>\n",
       "      <td>1</td>\n",
       "      <td>flexible</td>\n",
       "      <td>0</td>\n",
       "      <td>36.0</td>\n",
       "    </tr>\n",
       "    <tr>\n",
       "      <th>24152849</th>\n",
       "      <td>75020.0</td>\n",
       "      <td>48.85070</td>\n",
       "      <td>2.40250</td>\n",
       "      <td>Ménilmontant</td>\n",
       "      <td>1</td>\n",
       "      <td>1.0</td>\n",
       "      <td>Private room</td>\n",
       "      <td>1.0</td>\n",
       "      <td>1.0</td>\n",
       "      <td>Bed</td>\n",
       "      <td>...</td>\n",
       "      <td>0.0</td>\n",
       "      <td>1.0</td>\n",
       "      <td>1</td>\n",
       "      <td>2</td>\n",
       "      <td>30</td>\n",
       "      <td>89</td>\n",
       "      <td>0</td>\n",
       "      <td>moderate</td>\n",
       "      <td>0</td>\n",
       "      <td>27.0</td>\n",
       "    </tr>\n",
       "    <tr>\n",
       "      <th>37074147</th>\n",
       "      <td>75020.0</td>\n",
       "      <td>48.87623</td>\n",
       "      <td>2.38288</td>\n",
       "      <td>Buttes-Chaumont</td>\n",
       "      <td>1</td>\n",
       "      <td>1.0</td>\n",
       "      <td>Entire home/apt</td>\n",
       "      <td>1.5</td>\n",
       "      <td>1.0</td>\n",
       "      <td>Bed</td>\n",
       "      <td>...</td>\n",
       "      <td>0.0</td>\n",
       "      <td>0.0</td>\n",
       "      <td>1</td>\n",
       "      <td>6</td>\n",
       "      <td>19</td>\n",
       "      <td>0</td>\n",
       "      <td>0</td>\n",
       "      <td>flexible</td>\n",
       "      <td>0</td>\n",
       "      <td>40.0</td>\n",
       "    </tr>\n",
       "    <tr>\n",
       "      <th>27587792</th>\n",
       "      <td>75018.0</td>\n",
       "      <td>48.89417</td>\n",
       "      <td>2.33727</td>\n",
       "      <td>Buttes-Montmartre</td>\n",
       "      <td>1</td>\n",
       "      <td>1.0</td>\n",
       "      <td>Entire home/apt</td>\n",
       "      <td>1.0</td>\n",
       "      <td>2.0</td>\n",
       "      <td>Bed</td>\n",
       "      <td>...</td>\n",
       "      <td>0.0</td>\n",
       "      <td>0.0</td>\n",
       "      <td>0</td>\n",
       "      <td>2</td>\n",
       "      <td>1125</td>\n",
       "      <td>0</td>\n",
       "      <td>0</td>\n",
       "      <td>strict</td>\n",
       "      <td>0</td>\n",
       "      <td>100.0</td>\n",
       "    </tr>\n",
       "    <tr>\n",
       "      <th>29975850</th>\n",
       "      <td>75003.0</td>\n",
       "      <td>48.85980</td>\n",
       "      <td>2.35518</td>\n",
       "      <td>Hôtel-de-Ville</td>\n",
       "      <td>1</td>\n",
       "      <td>1.0</td>\n",
       "      <td>Entire home/apt</td>\n",
       "      <td>1.0</td>\n",
       "      <td>1.0</td>\n",
       "      <td>Bed</td>\n",
       "      <td>...</td>\n",
       "      <td>0.0</td>\n",
       "      <td>193.0</td>\n",
       "      <td>1</td>\n",
       "      <td>91</td>\n",
       "      <td>1125</td>\n",
       "      <td>365</td>\n",
       "      <td>0</td>\n",
       "      <td>strict</td>\n",
       "      <td>0</td>\n",
       "      <td>85.0</td>\n",
       "    </tr>\n",
       "  </tbody>\n",
       "</table>\n",
       "<p>5 rows × 35 columns</p>\n",
       "</div>"
      ],
      "text/plain": [
       "          zipcode  latitude  longitude neighbourhood_cleansed  \\\n",
       "id                                                              \n",
       "27041946  75013.0  48.82773    2.34844               Gobelins   \n",
       "24152849  75020.0  48.85070    2.40250           Ménilmontant   \n",
       "37074147  75020.0  48.87623    2.38288        Buttes-Chaumont   \n",
       "27587792  75018.0  48.89417    2.33727      Buttes-Montmartre   \n",
       "29975850  75003.0  48.85980    2.35518         Hôtel-de-Ville   \n",
       "\n",
       "          is_location_exact  bedrooms        room_type  bathrooms  beds  \\\n",
       "id                                                                        \n",
       "27041946                  1       0.0  Entire home/apt        1.0   1.0   \n",
       "24152849                  1       1.0     Private room        1.0   1.0   \n",
       "37074147                  1       1.0  Entire home/apt        1.5   1.0   \n",
       "27587792                  1       1.0  Entire home/apt        1.0   2.0   \n",
       "29975850                  1       1.0  Entire home/apt        1.0   1.0   \n",
       "\n",
       "         bed_type  ...  host_is_superhost  host_total_listings_count  \\\n",
       "id                 ...                                                 \n",
       "27041946      Bed  ...                0.0                        1.0   \n",
       "24152849      Bed  ...                0.0                        1.0   \n",
       "37074147      Bed  ...                0.0                        0.0   \n",
       "27587792      Bed  ...                0.0                        0.0   \n",
       "29975850      Bed  ...                0.0                      193.0   \n",
       "\n",
       "          host_identity_verified  minimum_nights  maximum_nights  \\\n",
       "id                                                                 \n",
       "27041946                       0              14              15   \n",
       "24152849                       1               2              30   \n",
       "37074147                       1               6              19   \n",
       "27587792                       0               2            1125   \n",
       "29975850                       1              91            1125   \n",
       "\n",
       "          availability_365  is_instant_bookable  cancellation_policy  \\\n",
       "id                                                                     \n",
       "27041946                 0                    1             flexible   \n",
       "24152849                89                    0             moderate   \n",
       "37074147                 0                    0             flexible   \n",
       "27587792                 0                    0               strict   \n",
       "29975850               365                    0               strict   \n",
       "\n",
       "          is_new_price  price  \n",
       "id                             \n",
       "27041946             0   36.0  \n",
       "24152849             0   27.0  \n",
       "37074147             0   40.0  \n",
       "27587792             0  100.0  \n",
       "29975850             0   85.0  \n",
       "\n",
       "[5 rows x 35 columns]"
      ]
     },
     "execution_count": 77,
     "metadata": {},
     "output_type": "execute_result"
    }
   ],
   "source": [
    "train_data.head()"
   ]
  },
  {
   "cell_type": "code",
   "execution_count": 80,
   "metadata": {},
   "outputs": [
    {
     "name": "stdout",
     "output_type": "stream",
     "text": [
      "<class 'pandas.core.frame.DataFrame'>\n",
      "Int64Index: 39811 entries, 14118966 to 41784682\n",
      "Data columns (total 35 columns):\n",
      " #   Column                     Non-Null Count  Dtype  \n",
      "---  ------                     --------------  -----  \n",
      " 0   zipcode                    39447 non-null  object \n",
      " 1   latitude                   39811 non-null  float64\n",
      " 2   longitude                  39811 non-null  float64\n",
      " 3   neighbourhood_cleansed     39811 non-null  object \n",
      " 4   is_location_exact          39811 non-null  int64  \n",
      " 5   bedrooms                   39729 non-null  float64\n",
      " 6   room_type                  39811 non-null  object \n",
      " 7   bathrooms                  39777 non-null  float64\n",
      " 8   beds                       39686 non-null  float64\n",
      " 9   bed_type                   39811 non-null  object \n",
      " 10  accommodates               39811 non-null  int64  \n",
      " 11  essentials                 39811 non-null  int64  \n",
      " 12  wifi                       39811 non-null  int64  \n",
      " 13  tv                         39811 non-null  int64  \n",
      " 14  kitchen                    39811 non-null  int64  \n",
      " 15  oven                       39811 non-null  int64  \n",
      " 16  cooking basics             39811 non-null  int64  \n",
      " 17  heating                    39811 non-null  int64  \n",
      " 18  washer                     39811 non-null  int64  \n",
      " 19  host greets you            39811 non-null  int64  \n",
      " 20  elevator                   39811 non-null  int64  \n",
      " 21  family/kid friendly        39811 non-null  int64  \n",
      " 22  private living room        39811 non-null  int64  \n",
      " 23  coffee maker               39811 non-null  int64  \n",
      " 24  dishwasher                 39811 non-null  int64  \n",
      " 25  host_is_superhost          39804 non-null  float64\n",
      " 26  host_total_listings_count  39804 non-null  float64\n",
      " 27  host_identity_verified     39811 non-null  int64  \n",
      " 28  minimum_nights             39811 non-null  int64  \n",
      " 29  maximum_nights             39811 non-null  int64  \n",
      " 30  availability_365           39811 non-null  int64  \n",
      " 31  is_instant_bookable        39811 non-null  int64  \n",
      " 32  cancellation_policy        39809 non-null  object \n",
      " 33  is_new_price               39811 non-null  int64  \n",
      " 34  price                      39811 non-null  float64\n",
      "dtypes: float64(8), int64(22), object(5)\n",
      "memory usage: 10.9+ MB\n"
     ]
    }
   ],
   "source": [
    "train_data.info()"
   ]
  },
  {
   "cell_type": "code",
   "execution_count": 81,
   "metadata": {},
   "outputs": [
    {
     "data": {
      "text/plain": [
       "zipcode                      364\n",
       "latitude                       0\n",
       "longitude                      0\n",
       "neighbourhood_cleansed         0\n",
       "is_location_exact              0\n",
       "bedrooms                      82\n",
       "room_type                      0\n",
       "bathrooms                     34\n",
       "beds                         125\n",
       "bed_type                       0\n",
       "accommodates                   0\n",
       "essentials                     0\n",
       "wifi                           0\n",
       "tv                             0\n",
       "kitchen                        0\n",
       "oven                           0\n",
       "cooking basics                 0\n",
       "heating                        0\n",
       "washer                         0\n",
       "host greets you                0\n",
       "elevator                       0\n",
       "family/kid friendly            0\n",
       "private living room            0\n",
       "coffee maker                   0\n",
       "dishwasher                     0\n",
       "host_is_superhost              7\n",
       "host_total_listings_count      7\n",
       "host_identity_verified         0\n",
       "minimum_nights                 0\n",
       "maximum_nights                 0\n",
       "availability_365               0\n",
       "is_instant_bookable            0\n",
       "cancellation_policy            2\n",
       "is_new_price                   0\n",
       "price                          0\n",
       "dtype: int64"
      ]
     },
     "execution_count": 81,
     "metadata": {},
     "output_type": "execute_result"
    }
   ],
   "source": [
    "train_data.isna().sum()"
   ]
  },
  {
   "cell_type": "code",
   "execution_count": 82,
   "metadata": {},
   "outputs": [
    {
     "data": {
      "text/plain": [
       "1.0      26268\n",
       "2.0       4039\n",
       "0.0       3861\n",
       "3.0       1066\n",
       "4.0        508\n",
       "         ...  \n",
       "304.0        1\n",
       "272.0        1\n",
       "280.0        1\n",
       "28.0         1\n",
       "313.0        1\n",
       "Name: host_total_listings_count, Length: 89, dtype: int64"
      ]
     },
     "execution_count": 82,
     "metadata": {},
     "output_type": "execute_result"
    }
   ],
   "source": [
    "train_data.host_total_listings_count.value_counts()"
   ]
  },
  {
   "cell_type": "raw",
   "metadata": {},
   "source": []
  },
  {
   "cell_type": "markdown",
   "metadata": {},
   "source": [
    "## 2.2 Exploration, Visualisation ... "
   ]
  },
  {
   "cell_type": "markdown",
   "metadata": {},
   "source": [
    "### 2.2.1 - Summary statistics"
   ]
  },
  {
   "cell_type": "markdown",
   "metadata": {},
   "source": [
    "#### Attributs : host_is_superhost, host_identity_verified"
   ]
  },
  {
   "cell_type": "code",
   "execution_count": 83,
   "metadata": {},
   "outputs": [
    {
     "data": {
      "image/png": "[encoded data removed]",
      "text/plain": [
       "<Figure size 1080x360 with 2 Axes>"
      ]
     },
     "metadata": {
      "needs_background": "light"
     },
     "output_type": "display_data"
    }
   ],
   "source": [
    "fig, axis = plt.subplots(1, 2, figsize=(15,5))\n",
    "sns.countplot(x='host_is_superhost', data=train_data, ax=axis[0])\n",
    "sns.countplot(x='host_identity_verified', data=train_data, ax=axis[1])\n",
    "plt.show()"
   ]
  },
  {
   "cell_type": "markdown",
   "metadata": {},
   "source": [
    "#### Attribut : price"
   ]
  },
  {
   "cell_type": "code",
   "execution_count": 84,
   "metadata": {},
   "outputs": [
    {
     "data": {
      "text/plain": [
       "count    39811.000000\n",
       "mean       103.268644\n",
       "std         76.314909\n",
       "min          8.000000\n",
       "25%         60.000000\n",
       "50%         80.000000\n",
       "75%        120.000000\n",
       "max        600.000000\n",
       "Name: price, dtype: float64"
      ]
     },
     "execution_count": 84,
     "metadata": {},
     "output_type": "execute_result"
    }
   ],
   "source": [
    "train_data['price'].describe()"
   ]
  },
  {
   "cell_type": "code",
   "execution_count": 113,
   "metadata": {},
   "outputs": [
    {
     "data": {
      "text/plain": [
       "(59939, 36)"
      ]
     },
     "execution_count": 113,
     "metadata": {},
     "output_type": "execute_result"
    }
   ],
   "source": [
    "train_data.shape"
   ]
  },
  {
   "cell_type": "code",
   "execution_count": 114,
   "metadata": {},
   "outputs": [
    {
     "data": {
      "text/plain": [
       "320"
      ]
     },
     "execution_count": 114,
     "metadata": {},
     "output_type": "execute_result"
    }
   ],
   "source": [
    " 80 * 4"
   ]
  },
  {
   "cell_type": "markdown",
   "metadata": {},
   "source": [
    "- Parès vérification sur le site d'airbnb, on se rend compte que les logment qui dépasse les 600 € la nuit sont soit : \n",
    "    - Des annances suspectes,\n",
    "    - Des logements de luxes !! \n",
    "    - Des locations pour événements pro\n",
    "    - etc, \n",
    "- On se limite à des logement de prix <= 600 : 99%"
   ]
  },
  {
   "cell_type": "code",
   "execution_count": 115,
   "metadata": {},
   "outputs": [],
   "source": [
    "train_data = train_data[train_data.price  <= 600 ]"
   ]
  },
  {
   "cell_type": "code",
   "execution_count": 116,
   "metadata": {},
   "outputs": [],
   "source": [
    "train_data = train_data[train_data.price  > 0 ]"
   ]
  },
  {
   "cell_type": "code",
   "execution_count": 117,
   "metadata": {},
   "outputs": [
    {
     "data": {
      "text/plain": [
       "(59420, 36)"
      ]
     },
     "execution_count": 117,
     "metadata": {},
     "output_type": "execute_result"
    }
   ],
   "source": [
    "train_data.shape"
   ]
  },
  {
   "cell_type": "code",
   "execution_count": 85,
   "metadata": {},
   "outputs": [
    {
     "data": {
      "text/plain": [
       "array([[<matplotlib.axes._subplots.AxesSubplot object at 0x7fa57be91850>]],\n",
       "      dtype=object)"
      ]
     },
     "execution_count": 85,
     "metadata": {},
     "output_type": "execute_result"
    },
    {
     "data": {
      "image/png": "[encoded data removed]",
      "text/plain": [
       "<Figure size 432x288 with 1 Axes>"
      ]
     },
     "metadata": {
      "needs_background": "light"
     },
     "output_type": "display_data"
    }
   ],
   "source": [
    "train_data.hist(column='price', bins=16)"
   ]
  },
  {
   "cell_type": "markdown",
   "metadata": {},
   "source": [
    "--> appliquer une log transformation au prix  "
   ]
  },
  {
   "cell_type": "code",
   "execution_count": 119,
   "metadata": {},
   "outputs": [
    {
     "data": {
      "text/plain": [
       "<matplotlib.axes._subplots.AxesSubplot at 0x7f92ceae09a0>"
      ]
     },
     "execution_count": 119,
     "metadata": {},
     "output_type": "execute_result"
    },
    {
     "data": {
      "image/png": "[encoded data removed]",
      "text/plain": [
       "<Figure size 432x288 with 1 Axes>"
      ]
     },
     "metadata": {
      "needs_background": "light"
     },
     "output_type": "display_data"
    }
   ],
   "source": [
    "train_data.boxplot(column='price')"
   ]
  },
  {
   "cell_type": "markdown",
   "metadata": {},
   "source": [
    "#### Attributs : bedrooms, room_type, beds, bed_type, bathrooms, accommodates, neighbourhood_cleansed, zipcode"
   ]
  },
  {
   "cell_type": "code",
   "execution_count": 120,
   "metadata": {},
   "outputs": [
    {
     "data": {
      "image/png": "[encoded data removed]",
      "text/plain": [
       "<Figure size 1080x1440 with 8 Axes>"
      ]
     },
     "metadata": {
      "needs_background": "light"
     },
     "output_type": "display_data"
    }
   ],
   "source": [
    "fig, axis = plt.subplots(4, 2, figsize=(15,20))\n",
    "sns.countplot(x='bedrooms', data=train_data, ax=axis[0,0])\n",
    "sns.countplot(x='bedrooms', hue='room_type', data=train_data, ax=axis[0,1])\n",
    "sns.countplot(x='beds', data=train_data, ax=axis[1,0])\n",
    "sns.countplot(x='beds', hue='bed_type', data=train_data, ax=axis[1,1])\n",
    "sns.countplot(x='bathrooms', data=train_data, ax=axis[2,0])\n",
    "sns.countplot(x='accommodates', data=train_data, ax=axis[2,1])\n",
    "sns.countplot(x='neighbourhood_cleansed', data=train_data, ax=axis[3,0])\n",
    "axis[3,0].tick_params(axis='x',labelrotation=90)\n",
    "sns.countplot(x='zipcode', data=train_data, ax=axis[3,1])\n",
    "axis[3,1].tick_params(axis='x',labelrotation=90)\n",
    "plt.show()"
   ]
  },
  {
   "cell_type": "code",
   "execution_count": 121,
   "metadata": {},
   "outputs": [
    {
     "data": {
      "text/html": [
       "<div>\n",
       "<style scoped>\n",
       "    .dataframe tbody tr th:only-of-type {\n",
       "        vertical-align: middle;\n",
       "    }\n",
       "\n",
       "    .dataframe tbody tr th {\n",
       "        vertical-align: top;\n",
       "    }\n",
       "\n",
       "    .dataframe thead th {\n",
       "        text-align: right;\n",
       "    }\n",
       "</style>\n",
       "<table border=\"1\" class=\"dataframe\">\n",
       "  <thead>\n",
       "    <tr style=\"text-align: right;\">\n",
       "      <th></th>\n",
       "      <th>bedrooms</th>\n",
       "      <th>room_type</th>\n",
       "      <th>beds</th>\n",
       "      <th>bathrooms</th>\n",
       "      <th>accommodates</th>\n",
       "      <th>price</th>\n",
       "    </tr>\n",
       "    <tr>\n",
       "      <th>id</th>\n",
       "      <th></th>\n",
       "      <th></th>\n",
       "      <th></th>\n",
       "      <th></th>\n",
       "      <th></th>\n",
       "      <th></th>\n",
       "    </tr>\n",
       "  </thead>\n",
       "  <tbody>\n",
       "    <tr>\n",
       "      <th>3992798</th>\n",
       "      <td>6.0</td>\n",
       "      <td>Entire home/apt</td>\n",
       "      <td>8.0</td>\n",
       "      <td>5.5</td>\n",
       "      <td>14</td>\n",
       "      <td>500.0</td>\n",
       "    </tr>\n",
       "    <tr>\n",
       "      <th>5108844</th>\n",
       "      <td>9.0</td>\n",
       "      <td>Entire home/apt</td>\n",
       "      <td>4.0</td>\n",
       "      <td>2.0</td>\n",
       "      <td>6</td>\n",
       "      <td>460.0</td>\n",
       "    </tr>\n",
       "    <tr>\n",
       "      <th>13243111</th>\n",
       "      <td>6.0</td>\n",
       "      <td>Entire home/apt</td>\n",
       "      <td>12.0</td>\n",
       "      <td>3.0</td>\n",
       "      <td>16</td>\n",
       "      <td>500.0</td>\n",
       "    </tr>\n",
       "    <tr>\n",
       "      <th>16905683</th>\n",
       "      <td>6.0</td>\n",
       "      <td>Entire home/apt</td>\n",
       "      <td>9.0</td>\n",
       "      <td>3.0</td>\n",
       "      <td>12</td>\n",
       "      <td>600.0</td>\n",
       "    </tr>\n",
       "    <tr>\n",
       "      <th>24236332</th>\n",
       "      <td>6.0</td>\n",
       "      <td>Entire home/apt</td>\n",
       "      <td>1.0</td>\n",
       "      <td>1.0</td>\n",
       "      <td>2</td>\n",
       "      <td>150.0</td>\n",
       "    </tr>\n",
       "    <tr>\n",
       "      <th>34265385</th>\n",
       "      <td>7.0</td>\n",
       "      <td>Entire home/apt</td>\n",
       "      <td>1.0</td>\n",
       "      <td>1.0</td>\n",
       "      <td>2</td>\n",
       "      <td>76.0</td>\n",
       "    </tr>\n",
       "    <tr>\n",
       "      <th>38398111</th>\n",
       "      <td>6.0</td>\n",
       "      <td>Entire home/apt</td>\n",
       "      <td>1.0</td>\n",
       "      <td>0.5</td>\n",
       "      <td>2</td>\n",
       "      <td>35.0</td>\n",
       "    </tr>\n",
       "    <tr>\n",
       "      <th>39286929</th>\n",
       "      <td>6.0</td>\n",
       "      <td>Entire home/apt</td>\n",
       "      <td>10.0</td>\n",
       "      <td>4.0</td>\n",
       "      <td>19</td>\n",
       "      <td>150.0</td>\n",
       "    </tr>\n",
       "    <tr>\n",
       "      <th>41757191</th>\n",
       "      <td>6.0</td>\n",
       "      <td>Entire home/apt</td>\n",
       "      <td>10.0</td>\n",
       "      <td>4.0</td>\n",
       "      <td>19</td>\n",
       "      <td>180.0</td>\n",
       "    </tr>\n",
       "  </tbody>\n",
       "</table>\n",
       "</div>"
      ],
      "text/plain": [
       "          bedrooms        room_type  beds  bathrooms  accommodates  price\n",
       "id                                                                       \n",
       "3992798        6.0  Entire home/apt   8.0        5.5            14  500.0\n",
       "5108844        9.0  Entire home/apt   4.0        2.0             6  460.0\n",
       "13243111       6.0  Entire home/apt  12.0        3.0            16  500.0\n",
       "16905683       6.0  Entire home/apt   9.0        3.0            12  600.0\n",
       "24236332       6.0  Entire home/apt   1.0        1.0             2  150.0\n",
       "34265385       7.0  Entire home/apt   1.0        1.0             2   76.0\n",
       "38398111       6.0  Entire home/apt   1.0        0.5             2   35.0\n",
       "39286929       6.0  Entire home/apt  10.0        4.0            19  150.0\n",
       "41757191       6.0  Entire home/apt  10.0        4.0            19  180.0"
      ]
     },
     "execution_count": 121,
     "metadata": {},
     "output_type": "execute_result"
    }
   ],
   "source": [
    "#beds\n",
    "train_data[(train_data.bedrooms>5)][['bedrooms',\n",
    "                                    'room_type',\n",
    "                                    'beds',\n",
    "                                    'bathrooms',\n",
    "                                    'accommodates',\n",
    "                                    'price']]"
   ]
  },
  {
   "cell_type": "markdown",
   "metadata": {},
   "source": [
    "- Onpeut vérifier sur airbnb que ces données sont incohérentes "
   ]
  },
  {
   "cell_type": "code",
   "execution_count": 122,
   "metadata": {},
   "outputs": [],
   "source": [
    "train_data = train_data[(train_data.bedrooms<=5)]"
   ]
  },
  {
   "cell_type": "code",
   "execution_count": 21,
   "metadata": {},
   "outputs": [
    {
     "data": {
      "text/html": [
       "<div>\n",
       "<style scoped>\n",
       "    .dataframe tbody tr th:only-of-type {\n",
       "        vertical-align: middle;\n",
       "    }\n",
       "\n",
       "    .dataframe tbody tr th {\n",
       "        vertical-align: top;\n",
       "    }\n",
       "\n",
       "    .dataframe thead th {\n",
       "        text-align: right;\n",
       "    }\n",
       "</style>\n",
       "<table border=\"1\" class=\"dataframe\">\n",
       "  <thead>\n",
       "    <tr style=\"text-align: right;\">\n",
       "      <th></th>\n",
       "      <th>bedrooms</th>\n",
       "      <th>room_type</th>\n",
       "      <th>beds</th>\n",
       "      <th>bathrooms</th>\n",
       "      <th>accommodates</th>\n",
       "      <th>price</th>\n",
       "    </tr>\n",
       "    <tr>\n",
       "      <th>id</th>\n",
       "      <th></th>\n",
       "      <th></th>\n",
       "      <th></th>\n",
       "      <th></th>\n",
       "      <th></th>\n",
       "      <th></th>\n",
       "    </tr>\n",
       "  </thead>\n",
       "  <tbody>\n",
       "    <tr>\n",
       "      <th>21688585</th>\n",
       "      <td>3.0</td>\n",
       "      <td>Entire home/apt</td>\n",
       "      <td>8.0</td>\n",
       "      <td>2.0</td>\n",
       "      <td>13</td>\n",
       "      <td>120.0</td>\n",
       "    </tr>\n",
       "    <tr>\n",
       "      <th>9377861</th>\n",
       "      <td>3.0</td>\n",
       "      <td>Entire home/apt</td>\n",
       "      <td>7.0</td>\n",
       "      <td>2.0</td>\n",
       "      <td>8</td>\n",
       "      <td>280.0</td>\n",
       "    </tr>\n",
       "    <tr>\n",
       "      <th>18146763</th>\n",
       "      <td>2.0</td>\n",
       "      <td>Entire home/apt</td>\n",
       "      <td>6.0</td>\n",
       "      <td>1.0</td>\n",
       "      <td>6</td>\n",
       "      <td>250.0</td>\n",
       "    </tr>\n",
       "    <tr>\n",
       "      <th>5723521</th>\n",
       "      <td>4.0</td>\n",
       "      <td>Entire home/apt</td>\n",
       "      <td>7.0</td>\n",
       "      <td>2.0</td>\n",
       "      <td>13</td>\n",
       "      <td>425.0</td>\n",
       "    </tr>\n",
       "    <tr>\n",
       "      <th>35748629</th>\n",
       "      <td>3.0</td>\n",
       "      <td>Entire home/apt</td>\n",
       "      <td>7.0</td>\n",
       "      <td>2.0</td>\n",
       "      <td>14</td>\n",
       "      <td>132.0</td>\n",
       "    </tr>\n",
       "    <tr>\n",
       "      <th>...</th>\n",
       "      <td>...</td>\n",
       "      <td>...</td>\n",
       "      <td>...</td>\n",
       "      <td>...</td>\n",
       "      <td>...</td>\n",
       "      <td>...</td>\n",
       "    </tr>\n",
       "    <tr>\n",
       "      <th>31452762</th>\n",
       "      <td>3.0</td>\n",
       "      <td>Entire home/apt</td>\n",
       "      <td>6.0</td>\n",
       "      <td>2.0</td>\n",
       "      <td>11</td>\n",
       "      <td>120.0</td>\n",
       "    </tr>\n",
       "    <tr>\n",
       "      <th>19923619</th>\n",
       "      <td>5.0</td>\n",
       "      <td>Entire home/apt</td>\n",
       "      <td>6.0</td>\n",
       "      <td>2.0</td>\n",
       "      <td>8</td>\n",
       "      <td>450.0</td>\n",
       "    </tr>\n",
       "    <tr>\n",
       "      <th>3102927</th>\n",
       "      <td>3.0</td>\n",
       "      <td>Entire home/apt</td>\n",
       "      <td>6.0</td>\n",
       "      <td>2.0</td>\n",
       "      <td>6</td>\n",
       "      <td>205.0</td>\n",
       "    </tr>\n",
       "    <tr>\n",
       "      <th>30454390</th>\n",
       "      <td>4.0</td>\n",
       "      <td>Entire home/apt</td>\n",
       "      <td>8.0</td>\n",
       "      <td>3.0</td>\n",
       "      <td>15</td>\n",
       "      <td>120.0</td>\n",
       "    </tr>\n",
       "    <tr>\n",
       "      <th>24151104</th>\n",
       "      <td>4.0</td>\n",
       "      <td>Entire home/apt</td>\n",
       "      <td>7.0</td>\n",
       "      <td>2.0</td>\n",
       "      <td>12</td>\n",
       "      <td>500.0</td>\n",
       "    </tr>\n",
       "  </tbody>\n",
       "</table>\n",
       "<p>243 rows × 6 columns</p>\n",
       "</div>"
      ],
      "text/plain": [
       "          bedrooms        room_type  beds  bathrooms  accommodates  price\n",
       "id                                                                       \n",
       "21688585       3.0  Entire home/apt   8.0        2.0            13  120.0\n",
       "9377861        3.0  Entire home/apt   7.0        2.0             8  280.0\n",
       "18146763       2.0  Entire home/apt   6.0        1.0             6  250.0\n",
       "5723521        4.0  Entire home/apt   7.0        2.0            13  425.0\n",
       "35748629       3.0  Entire home/apt   7.0        2.0            14  132.0\n",
       "...            ...              ...   ...        ...           ...    ...\n",
       "31452762       3.0  Entire home/apt   6.0        2.0            11  120.0\n",
       "19923619       5.0  Entire home/apt   6.0        2.0             8  450.0\n",
       "3102927        3.0  Entire home/apt   6.0        2.0             6  205.0\n",
       "30454390       4.0  Entire home/apt   8.0        3.0            15  120.0\n",
       "24151104       4.0  Entire home/apt   7.0        2.0            12  500.0\n",
       "\n",
       "[243 rows x 6 columns]"
      ]
     },
     "execution_count": 21,
     "metadata": {},
     "output_type": "execute_result"
    }
   ],
   "source": [
    "#beds\n",
    "train_data[(train_data.beds>5)][['bedrooms',\n",
    "                                    'room_type',\n",
    "                                    'beds',\n",
    "                                    'bathrooms',\n",
    "                                    'accommodates',\n",
    "                                    'price']]"
   ]
  },
  {
   "cell_type": "markdown",
   "metadata": {},
   "source": [
    "- On peut vérifier sur le site de airbnb que ces logments proposes plusieurs lits/canapés"
   ]
  },
  {
   "cell_type": "code",
   "execution_count": 123,
   "metadata": {},
   "outputs": [
    {
     "data": {
      "text/html": [
       "<div>\n",
       "<style scoped>\n",
       "    .dataframe tbody tr th:only-of-type {\n",
       "        vertical-align: middle;\n",
       "    }\n",
       "\n",
       "    .dataframe tbody tr th {\n",
       "        vertical-align: top;\n",
       "    }\n",
       "\n",
       "    .dataframe thead th {\n",
       "        text-align: right;\n",
       "    }\n",
       "</style>\n",
       "<table border=\"1\" class=\"dataframe\">\n",
       "  <thead>\n",
       "    <tr style=\"text-align: right;\">\n",
       "      <th></th>\n",
       "      <th>bedrooms</th>\n",
       "      <th>room_type</th>\n",
       "      <th>beds</th>\n",
       "      <th>bathrooms</th>\n",
       "      <th>accommodates</th>\n",
       "      <th>price</th>\n",
       "    </tr>\n",
       "    <tr>\n",
       "      <th>id</th>\n",
       "      <th></th>\n",
       "      <th></th>\n",
       "      <th></th>\n",
       "      <th></th>\n",
       "      <th></th>\n",
       "      <th></th>\n",
       "    </tr>\n",
       "  </thead>\n",
       "  <tbody>\n",
       "    <tr>\n",
       "      <th>4612894</th>\n",
       "      <td>1.0</td>\n",
       "      <td>Private room</td>\n",
       "      <td>1.0</td>\n",
       "      <td>6.5</td>\n",
       "      <td>2</td>\n",
       "      <td>25.0</td>\n",
       "    </tr>\n",
       "    <tr>\n",
       "      <th>4819335</th>\n",
       "      <td>0.0</td>\n",
       "      <td>Entire home/apt</td>\n",
       "      <td>1.0</td>\n",
       "      <td>6.0</td>\n",
       "      <td>2</td>\n",
       "      <td>70.0</td>\n",
       "    </tr>\n",
       "    <tr>\n",
       "      <th>6179381</th>\n",
       "      <td>1.0</td>\n",
       "      <td>Private room</td>\n",
       "      <td>1.0</td>\n",
       "      <td>8.0</td>\n",
       "      <td>2</td>\n",
       "      <td>60.0</td>\n",
       "    </tr>\n",
       "    <tr>\n",
       "      <th>7705707</th>\n",
       "      <td>0.0</td>\n",
       "      <td>Entire home/apt</td>\n",
       "      <td>1.0</td>\n",
       "      <td>7.0</td>\n",
       "      <td>2</td>\n",
       "      <td>76.0</td>\n",
       "    </tr>\n",
       "    <tr>\n",
       "      <th>9017392</th>\n",
       "      <td>1.0</td>\n",
       "      <td>Private room</td>\n",
       "      <td>1.0</td>\n",
       "      <td>8.0</td>\n",
       "      <td>2</td>\n",
       "      <td>32.0</td>\n",
       "    </tr>\n",
       "    <tr>\n",
       "      <th>9212197</th>\n",
       "      <td>1.0</td>\n",
       "      <td>Private room</td>\n",
       "      <td>1.0</td>\n",
       "      <td>6.0</td>\n",
       "      <td>2</td>\n",
       "      <td>55.0</td>\n",
       "    </tr>\n",
       "    <tr>\n",
       "      <th>16032537</th>\n",
       "      <td>5.0</td>\n",
       "      <td>Entire home/apt</td>\n",
       "      <td>5.0</td>\n",
       "      <td>5.5</td>\n",
       "      <td>10</td>\n",
       "      <td>550.0</td>\n",
       "    </tr>\n",
       "    <tr>\n",
       "      <th>33500609</th>\n",
       "      <td>1.0</td>\n",
       "      <td>Shared room</td>\n",
       "      <td>1.0</td>\n",
       "      <td>26.0</td>\n",
       "      <td>1</td>\n",
       "      <td>500.0</td>\n",
       "    </tr>\n",
       "    <tr>\n",
       "      <th>41185397</th>\n",
       "      <td>5.0</td>\n",
       "      <td>Entire home/apt</td>\n",
       "      <td>5.0</td>\n",
       "      <td>6.5</td>\n",
       "      <td>10</td>\n",
       "      <td>600.0</td>\n",
       "    </tr>\n",
       "  </tbody>\n",
       "</table>\n",
       "</div>"
      ],
      "text/plain": [
       "          bedrooms        room_type  beds  bathrooms  accommodates  price\n",
       "id                                                                       \n",
       "4612894        1.0     Private room   1.0        6.5             2   25.0\n",
       "4819335        0.0  Entire home/apt   1.0        6.0             2   70.0\n",
       "6179381        1.0     Private room   1.0        8.0             2   60.0\n",
       "7705707        0.0  Entire home/apt   1.0        7.0             2   76.0\n",
       "9017392        1.0     Private room   1.0        8.0             2   32.0\n",
       "9212197        1.0     Private room   1.0        6.0             2   55.0\n",
       "16032537       5.0  Entire home/apt   5.0        5.5            10  550.0\n",
       "33500609       1.0      Shared room   1.0       26.0             1  500.0\n",
       "41185397       5.0  Entire home/apt   5.0        6.5            10  600.0"
      ]
     },
     "execution_count": 123,
     "metadata": {},
     "output_type": "execute_result"
    }
   ],
   "source": [
    "#beds\n",
    "train_data[(train_data.bathrooms>5)][['bedrooms',\n",
    "                                    'room_type',\n",
    "                                    'beds',\n",
    "                                    'bathrooms',\n",
    "                                    'accommodates',\n",
    "                                    'price']]"
   ]
  },
  {
   "cell_type": "markdown",
   "metadata": {},
   "source": [
    "- Onpeut vérifier sur airbnb que ces données sont incohérentes "
   ]
  },
  {
   "cell_type": "code",
   "execution_count": 23,
   "metadata": {},
   "outputs": [],
   "source": [
    "train_data = train_data[(train_data.bathrooms<=5)]"
   ]
  },
  {
   "cell_type": "code",
   "execution_count": 124,
   "metadata": {},
   "outputs": [
    {
     "data": {
      "text/html": [
       "<div>\n",
       "<style scoped>\n",
       "    .dataframe tbody tr th:only-of-type {\n",
       "        vertical-align: middle;\n",
       "    }\n",
       "\n",
       "    .dataframe tbody tr th {\n",
       "        vertical-align: top;\n",
       "    }\n",
       "\n",
       "    .dataframe thead th {\n",
       "        text-align: right;\n",
       "    }\n",
       "</style>\n",
       "<table border=\"1\" class=\"dataframe\">\n",
       "  <thead>\n",
       "    <tr style=\"text-align: right;\">\n",
       "      <th></th>\n",
       "      <th>bedrooms</th>\n",
       "      <th>room_type</th>\n",
       "      <th>beds</th>\n",
       "      <th>bathrooms</th>\n",
       "      <th>accommodates</th>\n",
       "      <th>price</th>\n",
       "    </tr>\n",
       "    <tr>\n",
       "      <th>id</th>\n",
       "      <th></th>\n",
       "      <th></th>\n",
       "      <th></th>\n",
       "      <th></th>\n",
       "      <th></th>\n",
       "      <th></th>\n",
       "    </tr>\n",
       "  </thead>\n",
       "  <tbody>\n",
       "    <tr>\n",
       "      <th>11412291</th>\n",
       "      <td>5.0</td>\n",
       "      <td>Entire home/apt</td>\n",
       "      <td>9.0</td>\n",
       "      <td>2.0</td>\n",
       "      <td>16</td>\n",
       "      <td>500.0</td>\n",
       "    </tr>\n",
       "    <tr>\n",
       "      <th>13595577</th>\n",
       "      <td>0.0</td>\n",
       "      <td>Entire home/apt</td>\n",
       "      <td>1.0</td>\n",
       "      <td>1.0</td>\n",
       "      <td>16</td>\n",
       "      <td>60.0</td>\n",
       "    </tr>\n",
       "    <tr>\n",
       "      <th>17938025</th>\n",
       "      <td>5.0</td>\n",
       "      <td>Entire home/apt</td>\n",
       "      <td>9.0</td>\n",
       "      <td>3.0</td>\n",
       "      <td>16</td>\n",
       "      <td>600.0</td>\n",
       "    </tr>\n",
       "    <tr>\n",
       "      <th>25152369</th>\n",
       "      <td>5.0</td>\n",
       "      <td>Entire home/apt</td>\n",
       "      <td>11.0</td>\n",
       "      <td>2.0</td>\n",
       "      <td>17</td>\n",
       "      <td>120.0</td>\n",
       "    </tr>\n",
       "    <tr>\n",
       "      <th>42086251</th>\n",
       "      <td>5.0</td>\n",
       "      <td>Entire home/apt</td>\n",
       "      <td>11.0</td>\n",
       "      <td>2.0</td>\n",
       "      <td>17</td>\n",
       "      <td>120.0</td>\n",
       "    </tr>\n",
       "    <tr>\n",
       "      <th>43352404</th>\n",
       "      <td>5.0</td>\n",
       "      <td>Entire home/apt</td>\n",
       "      <td>12.0</td>\n",
       "      <td>4.0</td>\n",
       "      <td>22</td>\n",
       "      <td>120.0</td>\n",
       "    </tr>\n",
       "    <tr>\n",
       "      <th>43352405</th>\n",
       "      <td>4.0</td>\n",
       "      <td>Entire home/apt</td>\n",
       "      <td>10.0</td>\n",
       "      <td>3.0</td>\n",
       "      <td>16</td>\n",
       "      <td>120.0</td>\n",
       "    </tr>\n",
       "    <tr>\n",
       "      <th>43352408</th>\n",
       "      <td>5.0</td>\n",
       "      <td>Entire home/apt</td>\n",
       "      <td>10.0</td>\n",
       "      <td>2.0</td>\n",
       "      <td>17</td>\n",
       "      <td>120.0</td>\n",
       "    </tr>\n",
       "  </tbody>\n",
       "</table>\n",
       "</div>"
      ],
      "text/plain": [
       "          bedrooms        room_type  beds  bathrooms  accommodates  price\n",
       "id                                                                       \n",
       "11412291       5.0  Entire home/apt   9.0        2.0            16  500.0\n",
       "13595577       0.0  Entire home/apt   1.0        1.0            16   60.0\n",
       "17938025       5.0  Entire home/apt   9.0        3.0            16  600.0\n",
       "25152369       5.0  Entire home/apt  11.0        2.0            17  120.0\n",
       "42086251       5.0  Entire home/apt  11.0        2.0            17  120.0\n",
       "43352404       5.0  Entire home/apt  12.0        4.0            22  120.0\n",
       "43352405       4.0  Entire home/apt  10.0        3.0            16  120.0\n",
       "43352408       5.0  Entire home/apt  10.0        2.0            17  120.0"
      ]
     },
     "execution_count": 124,
     "metadata": {},
     "output_type": "execute_result"
    }
   ],
   "source": [
    "#accommodates\n",
    "train_data[(train_data.accommodates>15)][['bedrooms',\n",
    "                                    'room_type',\n",
    "                                    'beds',\n",
    "                                    'bathrooms',\n",
    "                                    'accommodates',\n",
    "                                    'price']]"
   ]
  },
  {
   "cell_type": "markdown",
   "metadata": {},
   "source": [
    "- Ces données sembles OK ! "
   ]
  },
  {
   "cell_type": "markdown",
   "metadata": {},
   "source": [
    "### 2.2.1 -  Looking for linear Correlations "
   ]
  },
  {
   "cell_type": "code",
   "execution_count": 125,
   "metadata": {},
   "outputs": [],
   "source": [
    "train_data = pd.read_csv('../input/dataset/airbnb_052020_train_cleaned.csv').set_index('id')\n",
    "correlations = train_data.corr()"
   ]
  },
  {
   "cell_type": "code",
   "execution_count": 126,
   "metadata": {},
   "outputs": [
    {
     "data": {
      "text/plain": [
       "price                        1.000000\n",
       "accommodates                 0.544725\n",
       "bedrooms                     0.539862\n",
       "bathrooms                    0.487876\n",
       "beds                         0.486555\n",
       "Dishwasher                   0.309946\n",
       "availability_365             0.305797\n",
       "host_total_listings_count    0.280675\n",
       "TV                           0.234385\n",
       "Coffee maker                 0.197700\n",
       "Oven                         0.188136\n",
       "Washer                       0.168224\n",
       "Cooking basics               0.154443\n",
       "Family/kid friendly          0.129289\n",
       "Elevator                     0.117488\n",
       "price_recently_updated       0.101016\n",
       "Wifi                         0.093786\n",
       "instant_bookable             0.091413\n",
       "host_is_superhost            0.072175\n",
       "Kitchen                      0.062736\n",
       "maximum_nights               0.054002\n",
       "Host greets you              0.051082\n",
       "Private living room          0.030372\n",
       "Heating                      0.028018\n",
       "minimum_nights               0.023768\n",
       "Essentials                   0.005709\n",
       "latitude                    -0.061210\n",
       "is_location_exact           -0.075033\n",
       "longitude                   -0.175086\n",
       "zipcode                     -0.284426\n",
       "Name: price, dtype: float64"
      ]
     },
     "execution_count": 126,
     "metadata": {},
     "output_type": "execute_result"
    }
   ],
   "source": [
    "correlations['price'].sort_values(ascending=False)"
   ]
  },
  {
   "cell_type": "code",
   "execution_count": 127,
   "metadata": {},
   "outputs": [
    {
     "data": {
      "image/png": "[encoded data removed]",
      "text/plain": [
       "<Figure size 1080x1440 with 10 Axes>"
      ]
     },
     "metadata": {
      "needs_background": "light"
     },
     "output_type": "display_data"
    }
   ],
   "source": [
    "fig, axis = plt.subplots(5, 2, figsize=(15,20))\n",
    "sns.barplot(x='accommodates', y='price', data= train_data, estimator=np.median,  ax=axis[0,0])\n",
    "sns.barplot(x='bedrooms', y='price', data= train_data, estimator=np.median,  ax=axis[0,1])\n",
    "sns.barplot(x='bathrooms', y='price', data= train_data, estimator=np.median,  ax=axis[1,0])\n",
    "sns.barplot(x='beds', y='price', data= train_data, estimator=np.median, ax=axis[1,1])\n",
    "sns.barplot(x='zipcode', y='price', data= train_data, estimator=np.median, ax=axis[2,0])\n",
    "axis[2,0].tick_params(axis='x',labelrotation=90)\n",
    "sns.barplot(x='neighbourhood_cleansed', y='price', data= train_data, estimator=np.median, ax=axis[2,1])\n",
    "axis[2,1].tick_params(axis='x',labelrotation=90)\n",
    "sns.barplot(x='room_type', y='price', data= train_data, estimator=np.median, ax=axis[3,0])\n",
    "sns.barplot(x='bed_type', y='price', data= train_data, estimator=np.median, ax=axis[3,1])\n",
    "sns.barplot(x='cancellation_policy', y='price', data= train_data, estimator=np.median, ax=axis[4,0])\n",
    "plt.show()"
   ]
  },
  {
   "cell_type": "markdown",
   "metadata": {},
   "source": [
    "# 3 - Feature engineering"
   ]
  },
  {
   "cell_type": "markdown",
   "metadata": {},
   "source": [
    "- Les compte ayant plus de 5 logements, on les considères commes des agences de location. On peut vérifier sur airbnb que c'est souvent le cas. "
   ]
  },
  {
   "cell_type": "code",
   "execution_count": 128,
   "metadata": {},
   "outputs": [],
   "source": [
    "train_data['is_agency'] = train_data['host_total_listings_count'].map(lambda x: 1 if x > 5 else 0)"
   ]
  },
  {
   "cell_type": "code",
   "execution_count": 129,
   "metadata": {},
   "outputs": [
    {
     "data": {
      "text/plain": [
       "price                        1.000000\n",
       "accommodates                 0.544725\n",
       "bedrooms                     0.539862\n",
       "bathrooms                    0.487876\n",
       "beds                         0.486555\n",
       "is_agency                    0.317042\n",
       "Dishwasher                   0.309946\n",
       "availability_365             0.305797\n",
       "host_total_listings_count    0.280675\n",
       "TV                           0.234385\n",
       "Coffee maker                 0.197700\n",
       "Oven                         0.188136\n",
       "Washer                       0.168224\n",
       "Cooking basics               0.154443\n",
       "Family/kid friendly          0.129289\n",
       "Elevator                     0.117488\n",
       "price_recently_updated       0.101016\n",
       "Wifi                         0.093786\n",
       "instant_bookable             0.091413\n",
       "host_is_superhost            0.072175\n",
       "Kitchen                      0.062736\n",
       "maximum_nights               0.054002\n",
       "Host greets you              0.051082\n",
       "Private living room          0.030372\n",
       "Heating                      0.028018\n",
       "minimum_nights               0.023768\n",
       "Essentials                   0.005709\n",
       "latitude                    -0.061210\n",
       "is_location_exact           -0.075033\n",
       "longitude                   -0.175086\n",
       "zipcode                     -0.284426\n",
       "Name: price, dtype: float64"
      ]
     },
     "execution_count": 129,
     "metadata": {},
     "output_type": "execute_result"
    }
   ],
   "source": [
    "train_data.corr()['price'].sort_values(ascending=False)"
   ]
  },
  {
   "cell_type": "code",
   "execution_count": null,
   "metadata": {},
   "outputs": [],
   "source": []
  }
 ],
 "metadata": {
  "kernelspec": {
   "display_name": "Python 3",
   "language": "python",
   "name": "python3"
  },
  "language_info": {
   "codemirror_mode": {
    "name": "ipython",
    "version": 3
   },
   "file_extension": ".py",
   "mimetype": "text/x-python",
   "name": "python",
   "nbconvert_exporter": "python",
   "pygments_lexer": "ipython3",
   "version": "3.8.3"
  }
 },
 "nbformat": 4,
 "nbformat_minor": 4
}
