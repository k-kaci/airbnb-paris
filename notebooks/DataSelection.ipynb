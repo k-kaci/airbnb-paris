{
 "cells": [
  {
   "cell_type": "markdown",
   "metadata": {},
   "source": [
    "#  <center> Data selection, transformation, simple cleannig, feature engineering, etc  <center>"
   ]
  },
  {
   "cell_type": "markdown",
   "metadata": {},
   "source": [
    "# 1 -  Import Libraries"
   ]
  },
  {
   "cell_type": "code",
   "execution_count": 1,
   "metadata": {},
   "outputs": [],
   "source": [
    "import numpy as np \n",
    "import pandas as pd"
   ]
  },
  {
   "cell_type": "markdown",
   "metadata": {},
   "source": [
    "# 1 - Load the data"
   ]
  },
  {
   "cell_type": "code",
   "execution_count": 2,
   "metadata": {},
   "outputs": [],
   "source": [
    "listings = pd.read_csv(\"../input/airbnb_052020_listings.csv\", dtype={'zipcode':np.string_, \n",
    "                                                            'weekly_price':np.string_, \n",
    "                                                            'monthly_price':np.string_})"
   ]
  },
  {
   "cell_type": "markdown",
   "metadata": {},
   "source": [
    "# 2 - Quick look "
   ]
  },
  {
   "cell_type": "code",
   "execution_count": 10,
   "metadata": {},
   "outputs": [
    {
     "data": {
      "text/html": [
       "<div>\n",
       "<style scoped>\n",
       "    .dataframe tbody tr th:only-of-type {\n",
       "        vertical-align: middle;\n",
       "    }\n",
       "\n",
       "    .dataframe tbody tr th {\n",
       "        vertical-align: top;\n",
       "    }\n",
       "\n",
       "    .dataframe thead th {\n",
       "        text-align: right;\n",
       "    }\n",
       "</style>\n",
       "<table border=\"1\" class=\"dataframe\">\n",
       "  <thead>\n",
       "    <tr style=\"text-align: right;\">\n",
       "      <th></th>\n",
       "      <th>listing_url</th>\n",
       "      <th>scrape_id</th>\n",
       "      <th>last_scraped</th>\n",
       "      <th>name</th>\n",
       "      <th>summary</th>\n",
       "      <th>space</th>\n",
       "      <th>description</th>\n",
       "      <th>experiences_offered</th>\n",
       "      <th>neighborhood_overview</th>\n",
       "      <th>notes</th>\n",
       "      <th>...</th>\n",
       "      <th>instant_bookable</th>\n",
       "      <th>is_business_travel_ready</th>\n",
       "      <th>cancellation_policy</th>\n",
       "      <th>require_guest_profile_picture</th>\n",
       "      <th>require_guest_phone_verification</th>\n",
       "      <th>calculated_host_listings_count</th>\n",
       "      <th>calculated_host_listings_count_entire_homes</th>\n",
       "      <th>calculated_host_listings_count_private_rooms</th>\n",
       "      <th>calculated_host_listings_count_shared_rooms</th>\n",
       "      <th>reviews_per_month</th>\n",
       "    </tr>\n",
       "    <tr>\n",
       "      <th>id</th>\n",
       "      <th></th>\n",
       "      <th></th>\n",
       "      <th></th>\n",
       "      <th></th>\n",
       "      <th></th>\n",
       "      <th></th>\n",
       "      <th></th>\n",
       "      <th></th>\n",
       "      <th></th>\n",
       "      <th></th>\n",
       "      <th></th>\n",
       "      <th></th>\n",
       "      <th></th>\n",
       "      <th></th>\n",
       "      <th></th>\n",
       "      <th></th>\n",
       "      <th></th>\n",
       "      <th></th>\n",
       "      <th></th>\n",
       "      <th></th>\n",
       "      <th></th>\n",
       "    </tr>\n",
       "  </thead>\n",
       "  <tbody>\n",
       "    <tr>\n",
       "      <th>2577</th>\n",
       "      <td>https://www.airbnb.com/rooms/2577</td>\n",
       "      <td>20200510041557</td>\n",
       "      <td>2020-05-12</td>\n",
       "      <td>Loft for 4 by Canal Saint Martin</td>\n",
       "      <td>100 m2 loft (1100 sq feet) with high ceiling, ...</td>\n",
       "      <td>The district has any service or shop you may d...</td>\n",
       "      <td>100 m2 loft (1100 sq feet) with high ceiling, ...</td>\n",
       "      <td>none</td>\n",
       "      <td>NaN</td>\n",
       "      <td>NaN</td>\n",
       "      <td>...</td>\n",
       "      <td>t</td>\n",
       "      <td>f</td>\n",
       "      <td>strict_14_with_grace_period</td>\n",
       "      <td>f</td>\n",
       "      <td>f</td>\n",
       "      <td>1</td>\n",
       "      <td>1</td>\n",
       "      <td>0</td>\n",
       "      <td>0</td>\n",
       "      <td>0.06</td>\n",
       "    </tr>\n",
       "    <tr>\n",
       "      <th>3109</th>\n",
       "      <td>https://www.airbnb.com/rooms/3109</td>\n",
       "      <td>20200510041557</td>\n",
       "      <td>2020-05-13</td>\n",
       "      <td>zen and calm</td>\n",
       "      <td>Appartement très calme de 50M2 Utilisation de ...</td>\n",
       "      <td>I bedroom appartment in Paris 14</td>\n",
       "      <td>I bedroom appartment in Paris 14 Good restaura...</td>\n",
       "      <td>none</td>\n",
       "      <td>Good restaurants very close the Montparnasse S...</td>\n",
       "      <td>NaN</td>\n",
       "      <td>...</td>\n",
       "      <td>f</td>\n",
       "      <td>f</td>\n",
       "      <td>flexible</td>\n",
       "      <td>f</td>\n",
       "      <td>f</td>\n",
       "      <td>1</td>\n",
       "      <td>1</td>\n",
       "      <td>0</td>\n",
       "      <td>0</td>\n",
       "      <td>0.22</td>\n",
       "    </tr>\n",
       "    <tr>\n",
       "      <th>5396</th>\n",
       "      <td>https://www.airbnb.com/rooms/5396</td>\n",
       "      <td>20200510041557</td>\n",
       "      <td>2020-05-13</td>\n",
       "      <td>Explore the heart of old Paris</td>\n",
       "      <td>Cozy, well-appointed and graciously designed s...</td>\n",
       "      <td>Small, well appointed studio apartment at the ...</td>\n",
       "      <td>Cozy, well-appointed and graciously designed s...</td>\n",
       "      <td>none</td>\n",
       "      <td>You are within walking distance to the Louvre,...</td>\n",
       "      <td>The staircase leading up to the apartment is n...</td>\n",
       "      <td>...</td>\n",
       "      <td>t</td>\n",
       "      <td>f</td>\n",
       "      <td>strict_14_with_grace_period</td>\n",
       "      <td>f</td>\n",
       "      <td>f</td>\n",
       "      <td>1</td>\n",
       "      <td>1</td>\n",
       "      <td>0</td>\n",
       "      <td>0</td>\n",
       "      <td>1.66</td>\n",
       "    </tr>\n",
       "    <tr>\n",
       "      <th>7397</th>\n",
       "      <td>https://www.airbnb.com/rooms/7397</td>\n",
       "      <td>20200510041557</td>\n",
       "      <td>2020-05-13</td>\n",
       "      <td>MARAIS - 2ROOMS APT - 2/4 PEOPLE</td>\n",
       "      <td>VERY CONVENIENT, WITH THE BEST LOCATION !</td>\n",
       "      <td>PLEASE ASK ME BEFORE TO MAKE A REQUEST !!! No ...</td>\n",
       "      <td>VERY CONVENIENT, WITH THE BEST LOCATION ! PLEA...</td>\n",
       "      <td>none</td>\n",
       "      <td>NaN</td>\n",
       "      <td>Important: Be conscious that an apartment in a...</td>\n",
       "      <td>...</td>\n",
       "      <td>f</td>\n",
       "      <td>f</td>\n",
       "      <td>moderate</td>\n",
       "      <td>f</td>\n",
       "      <td>f</td>\n",
       "      <td>5</td>\n",
       "      <td>5</td>\n",
       "      <td>0</td>\n",
       "      <td>0</td>\n",
       "      <td>2.42</td>\n",
       "    </tr>\n",
       "    <tr>\n",
       "      <th>7964</th>\n",
       "      <td>https://www.airbnb.com/rooms/7964</td>\n",
       "      <td>20200510041557</td>\n",
       "      <td>2020-05-12</td>\n",
       "      <td>Large &amp; sunny flat with balcony !</td>\n",
       "      <td>Very large &amp; nice apartment all for you!  - Su...</td>\n",
       "      <td>hello ! We have a great 75 square meter apartm...</td>\n",
       "      <td>Very large &amp; nice apartment all for you!  - Su...</td>\n",
       "      <td>none</td>\n",
       "      <td>NaN</td>\n",
       "      <td>NaN</td>\n",
       "      <td>...</td>\n",
       "      <td>f</td>\n",
       "      <td>f</td>\n",
       "      <td>strict_14_with_grace_period</td>\n",
       "      <td>f</td>\n",
       "      <td>f</td>\n",
       "      <td>1</td>\n",
       "      <td>1</td>\n",
       "      <td>0</td>\n",
       "      <td>0</td>\n",
       "      <td>0.05</td>\n",
       "    </tr>\n",
       "  </tbody>\n",
       "</table>\n",
       "<p>5 rows × 105 columns</p>\n",
       "</div>"
      ],
      "text/plain": [
       "                            listing_url       scrape_id last_scraped  \\\n",
       "id                                                                     \n",
       "2577  https://www.airbnb.com/rooms/2577  20200510041557   2020-05-12   \n",
       "3109  https://www.airbnb.com/rooms/3109  20200510041557   2020-05-13   \n",
       "5396  https://www.airbnb.com/rooms/5396  20200510041557   2020-05-13   \n",
       "7397  https://www.airbnb.com/rooms/7397  20200510041557   2020-05-13   \n",
       "7964  https://www.airbnb.com/rooms/7964  20200510041557   2020-05-12   \n",
       "\n",
       "                                   name  \\\n",
       "id                                        \n",
       "2577   Loft for 4 by Canal Saint Martin   \n",
       "3109                       zen and calm   \n",
       "5396     Explore the heart of old Paris   \n",
       "7397   MARAIS - 2ROOMS APT - 2/4 PEOPLE   \n",
       "7964  Large & sunny flat with balcony !   \n",
       "\n",
       "                                                summary  \\\n",
       "id                                                        \n",
       "2577  100 m2 loft (1100 sq feet) with high ceiling, ...   \n",
       "3109  Appartement très calme de 50M2 Utilisation de ...   \n",
       "5396  Cozy, well-appointed and graciously designed s...   \n",
       "7397          VERY CONVENIENT, WITH THE BEST LOCATION !   \n",
       "7964  Very large & nice apartment all for you!  - Su...   \n",
       "\n",
       "                                                  space  \\\n",
       "id                                                        \n",
       "2577  The district has any service or shop you may d...   \n",
       "3109                   I bedroom appartment in Paris 14   \n",
       "5396  Small, well appointed studio apartment at the ...   \n",
       "7397  PLEASE ASK ME BEFORE TO MAKE A REQUEST !!! No ...   \n",
       "7964  hello ! We have a great 75 square meter apartm...   \n",
       "\n",
       "                                            description experiences_offered  \\\n",
       "id                                                                            \n",
       "2577  100 m2 loft (1100 sq feet) with high ceiling, ...                none   \n",
       "3109  I bedroom appartment in Paris 14 Good restaura...                none   \n",
       "5396  Cozy, well-appointed and graciously designed s...                none   \n",
       "7397  VERY CONVENIENT, WITH THE BEST LOCATION ! PLEA...                none   \n",
       "7964  Very large & nice apartment all for you!  - Su...                none   \n",
       "\n",
       "                                  neighborhood_overview  \\\n",
       "id                                                        \n",
       "2577                                                NaN   \n",
       "3109  Good restaurants very close the Montparnasse S...   \n",
       "5396  You are within walking distance to the Louvre,...   \n",
       "7397                                                NaN   \n",
       "7964                                                NaN   \n",
       "\n",
       "                                                  notes  ... instant_bookable  \\\n",
       "id                                                       ...                    \n",
       "2577                                                NaN  ...                t   \n",
       "3109                                                NaN  ...                f   \n",
       "5396  The staircase leading up to the apartment is n...  ...                t   \n",
       "7397  Important: Be conscious that an apartment in a...  ...                f   \n",
       "7964                                                NaN  ...                f   \n",
       "\n",
       "     is_business_travel_ready          cancellation_policy  \\\n",
       "id                                                           \n",
       "2577                        f  strict_14_with_grace_period   \n",
       "3109                        f                     flexible   \n",
       "5396                        f  strict_14_with_grace_period   \n",
       "7397                        f                     moderate   \n",
       "7964                        f  strict_14_with_grace_period   \n",
       "\n",
       "     require_guest_profile_picture  require_guest_phone_verification  \\\n",
       "id                                                                     \n",
       "2577                             f                                 f   \n",
       "3109                             f                                 f   \n",
       "5396                             f                                 f   \n",
       "7397                             f                                 f   \n",
       "7964                             f                                 f   \n",
       "\n",
       "      calculated_host_listings_count  \\\n",
       "id                                     \n",
       "2577                               1   \n",
       "3109                               1   \n",
       "5396                               1   \n",
       "7397                               5   \n",
       "7964                               1   \n",
       "\n",
       "     calculated_host_listings_count_entire_homes  \\\n",
       "id                                                 \n",
       "2577                                           1   \n",
       "3109                                           1   \n",
       "5396                                           1   \n",
       "7397                                           5   \n",
       "7964                                           1   \n",
       "\n",
       "      calculated_host_listings_count_private_rooms  \\\n",
       "id                                                   \n",
       "2577                                             0   \n",
       "3109                                             0   \n",
       "5396                                             0   \n",
       "7397                                             0   \n",
       "7964                                             0   \n",
       "\n",
       "      calculated_host_listings_count_shared_rooms reviews_per_month  \n",
       "id                                                                   \n",
       "2577                                            0              0.06  \n",
       "3109                                            0              0.22  \n",
       "5396                                            0              1.66  \n",
       "7397                                            0              2.42  \n",
       "7964                                            0              0.05  \n",
       "\n",
       "[5 rows x 105 columns]"
      ]
     },
     "execution_count": 10,
     "metadata": {},
     "output_type": "execute_result"
    }
   ],
   "source": [
    "listings.head()"
   ]
  },
  {
   "cell_type": "code",
   "execution_count": 4,
   "metadata": {},
   "outputs": [
    {
     "data": {
      "text/plain": [
       "(66900, 24)"
      ]
     },
     "execution_count": 4,
     "metadata": {},
     "output_type": "execute_result"
    }
   ],
   "source": [
    "listings.shape"
   ]
  },
  {
   "cell_type": "code",
   "execution_count": 8,
   "metadata": {},
   "outputs": [
    {
     "name": "stdout",
     "output_type": "stream",
     "text": [
      "<class 'pandas.core.frame.DataFrame'>\n",
      "Int64Index: 66900 entries, 2577 to 43397586\n",
      "Columns: 105 entries, listing_url to reviews_per_month\n",
      "dtypes: float64(22), int64(20), object(63)\n",
      "memory usage: 54.1+ MB\n"
     ]
    }
   ],
   "source": [
    "# type des données\n",
    "listings.info()"
   ]
  },
  {
   "cell_type": "markdown",
   "metadata": {},
   "source": [
    "# 3 - Data Cleaning & Transformation"
   ]
  },
  {
   "cell_type": "code",
   "execution_count": 7,
   "metadata": {},
   "outputs": [
    {
     "data": {
      "text/plain": [
       "75018      3722\n",
       "75018.0    3664\n",
       "75011      3313\n",
       "75011.0    3116\n",
       "75015.0    2517\n",
       "75015      2421\n",
       "75010.0    2338\n",
       "75010      2332\n",
       "75017.0    2311\n",
       "75017      2086\n",
       "75020      1978\n",
       "75020.0    1871\n",
       "75019      1839\n",
       "75019.0    1796\n",
       "75009.0    1750\n",
       "75003.0    1592\n",
       "75003      1473\n",
       "75009      1446\n",
       "75012      1342\n",
       "75002.0    1318\n",
       "Name: zipcode, dtype: int64"
      ]
     },
     "execution_count": 7,
     "metadata": {},
     "output_type": "execute_result"
    }
   ],
   "source": [
    "listings.zipcode.value_counts()[:20]"
   ]
  },
  {
   "cell_type": "markdown",
   "metadata": {},
   "source": [
    "## Attribut : property_type & host_identity_verified"
   ]
  },
  {
   "cell_type": "code",
   "execution_count": 6,
   "metadata": {},
   "outputs": [
    {
     "data": {
      "text/plain": [
       "Apartment             59939\n",
       "Condominium            2036\n",
       "Boutique hotel         1532\n",
       "Loft                   1219\n",
       "House                   476\n",
       "Serviced apartment      311\n",
       "Hotel                   307\n",
       "Townhouse               251\n",
       "Aparthotel              231\n",
       "Bed and breakfast       157\n",
       "Hostel                  115\n",
       "Guesthouse               95\n",
       "Other                    86\n",
       "Guest suite              45\n",
       "Tiny house               32\n",
       "Villa                    22\n",
       "Boat                     13\n",
       "Houseboat                 8\n",
       "Bungalow                  3\n",
       "Nature lodge              3\n",
       "Earth house               3\n",
       "Barn                      2\n",
       "Cabin                     2\n",
       "Dome house                2\n",
       "Cottage                   2\n",
       "Cave                      2\n",
       "Dorm                      1\n",
       "Campsite                  1\n",
       "Farm stay                 1\n",
       "Igloo                     1\n",
       "Island                    1\n",
       "Plane                     1\n",
       "Name: property_type, dtype: int64"
      ]
     },
     "execution_count": 6,
     "metadata": {},
     "output_type": "execute_result"
    }
   ],
   "source": [
    "listings['property_type'].value_counts()"
   ]
  },
  {
   "cell_type": "code",
   "execution_count": 7,
   "metadata": {},
   "outputs": [],
   "source": [
    "# On ne considère que des appartements \n",
    "listings = listings[listings['property_type'] == 'Apartment'].drop('property_type', axis=1)"
   ]
  },
  {
   "cell_type": "code",
   "execution_count": 8,
   "metadata": {},
   "outputs": [
    {
     "data": {
      "text/plain": [
       "(59939, 23)"
      ]
     },
     "execution_count": 8,
     "metadata": {},
     "output_type": "execute_result"
    }
   ],
   "source": [
    "listings.shape"
   ]
  },
  {
   "cell_type": "code",
   "execution_count": 9,
   "metadata": {},
   "outputs": [
    {
     "data": {
      "text/plain": [
       "host_is_superhost               9\n",
       "host_total_listings_count       9\n",
       "host_verifications              0\n",
       "neighbourhood_cleansed          0\n",
       "zipcode                      2224\n",
       "latitude                        0\n",
       "longitude                       0\n",
       "is_location_exact               0\n",
       "room_type                       0\n",
       "bathrooms                      48\n",
       "bedrooms                      140\n",
       "beds                          204\n",
       "bed_type                        0\n",
       "amenities                       0\n",
       "accommodates                    0\n",
       "price                           0\n",
       "minimum_nights                  0\n",
       "maximum_nights                  0\n",
       "calendar_updated                0\n",
       "calendar_last_scraped           0\n",
       "instant_bookable                0\n",
       "cancellation_policy             1\n",
       "availability_365                0\n",
       "dtype: int64"
      ]
     },
     "execution_count": 9,
     "metadata": {},
     "output_type": "execute_result"
    }
   ],
   "source": [
    "#Valeurs manquantes\n",
    "listings.isna().sum()"
   ]
  },
  {
   "cell_type": "markdown",
   "metadata": {},
   "source": [
    "## Attribut : bedrooms"
   ]
  },
  {
   "cell_type": "code",
   "execution_count": 10,
   "metadata": {},
   "outputs": [
    {
     "data": {
      "text/plain": [
       "2    106\n",
       "4     14\n",
       "1     11\n",
       "3      9\n",
       "Name: accommodates, dtype: int64"
      ]
     },
     "execution_count": 10,
     "metadata": {},
     "output_type": "execute_result"
    }
   ],
   "source": [
    "listings[listings['bedrooms'].isna()]['accommodates'].value_counts()"
   ]
  },
  {
   "cell_type": "markdown",
   "metadata": {},
   "source": [
    " - C'est essentiellement des appartements avec accommodates = 2"
   ]
  },
  {
   "cell_type": "code",
   "execution_count": 11,
   "metadata": {},
   "outputs": [
    {
     "data": {
      "text/plain": [
       "accommodates\n",
       "1     1.0\n",
       "2     1.0\n",
       "3     1.0\n",
       "4     1.0\n",
       "5     2.0\n",
       "6     2.0\n",
       "7     3.0\n",
       "8     3.0\n",
       "9     3.0\n",
       "10    4.0\n",
       "11    3.0\n",
       "12    4.0\n",
       "13    4.0\n",
       "14    4.0\n",
       "15    4.0\n",
       "16    4.5\n",
       "17    5.0\n",
       "19    6.0\n",
       "22    5.0\n",
       "Name: bedrooms, dtype: float64"
      ]
     },
     "execution_count": 11,
     "metadata": {},
     "output_type": "execute_result"
    }
   ],
   "source": [
    "listings.groupby('accommodates')['bedrooms'].median()"
   ]
  },
  {
   "cell_type": "markdown",
   "metadata": {},
   "source": [
    " - Il semble bien qu'on peut remplacer bedrooms par 1"
   ]
  },
  {
   "cell_type": "code",
   "execution_count": 12,
   "metadata": {},
   "outputs": [],
   "source": [
    "listings['bedrooms'] = listings['bedrooms'].map(lambda x: 1 if np.isnan(x) else x)"
   ]
  },
  {
   "cell_type": "markdown",
   "metadata": {},
   "source": [
    "## Attribut : bed_type"
   ]
  },
  {
   "cell_type": "code",
   "execution_count": 13,
   "metadata": {},
   "outputs": [
    {
     "data": {
      "text/plain": [
       "Real Bed         57257\n",
       "Pull-out Sofa     2072\n",
       "Couch              405\n",
       "Futon              190\n",
       "Airbed              15\n",
       "Name: bed_type, dtype: int64"
      ]
     },
     "execution_count": 13,
     "metadata": {},
     "output_type": "execute_result"
    }
   ],
   "source": [
    "listings.bed_type.value_counts()"
   ]
  },
  {
   "cell_type": "markdown",
   "metadata": {},
   "source": [
    "- Couch, Futon et Airbed son rares --> on les regroupe dans Other"
   ]
  },
  {
   "cell_type": "code",
   "execution_count": 14,
   "metadata": {},
   "outputs": [],
   "source": [
    "listings['bed_type'] = listings['bed_type'].map({'Real Bed':'Bed', \n",
    "                                                 'Pull-out Sofa':'Sofa',\n",
    "                                                 'Couch':'Other',\n",
    "                                                 'Futon':'Other',\n",
    "                                                 'Airbed':'Other'})"
   ]
  },
  {
   "cell_type": "code",
   "execution_count": 43,
   "metadata": {},
   "outputs": [
    {
     "data": {
      "text/plain": [
       "Bed      57257\n",
       "Sofa      2072\n",
       "Other      610\n",
       "Name: bed_type, dtype: int64"
      ]
     },
     "execution_count": 43,
     "metadata": {},
     "output_type": "execute_result"
    }
   ],
   "source": [
    "listings.bed_type.value_counts()"
   ]
  },
  {
   "cell_type": "markdown",
   "metadata": {},
   "source": [
    "## Attribut : beds"
   ]
  },
  {
   "cell_type": "code",
   "execution_count": 16,
   "metadata": {},
   "outputs": [
    {
     "data": {
      "text/plain": [
       "1.0    173\n",
       "0.0     18\n",
       "2.0      8\n",
       "3.0      3\n",
       "4.0      2\n",
       "Name: bedrooms, dtype: int64"
      ]
     },
     "execution_count": 16,
     "metadata": {},
     "output_type": "execute_result"
    }
   ],
   "source": [
    "listings[listings.beds.isna()]['bedrooms'].value_counts()"
   ]
  },
  {
   "cell_type": "markdown",
   "metadata": {},
   "source": [
    "- C'est essentiellement des appartements avec bedrooms = 1"
   ]
  },
  {
   "cell_type": "code",
   "execution_count": 17,
   "metadata": {},
   "outputs": [
    {
     "data": {
      "text/html": [
       "<div>\n",
       "<style scoped>\n",
       "    .dataframe tbody tr th:only-of-type {\n",
       "        vertical-align: middle;\n",
       "    }\n",
       "\n",
       "    .dataframe tbody tr th {\n",
       "        vertical-align: top;\n",
       "    }\n",
       "\n",
       "    .dataframe thead th {\n",
       "        text-align: right;\n",
       "    }\n",
       "</style>\n",
       "<table border=\"1\" class=\"dataframe\">\n",
       "  <thead>\n",
       "    <tr style=\"text-align: right;\">\n",
       "      <th></th>\n",
       "      <th>beds</th>\n",
       "      <th>accommodates</th>\n",
       "    </tr>\n",
       "    <tr>\n",
       "      <th>bedrooms</th>\n",
       "      <th></th>\n",
       "      <th></th>\n",
       "    </tr>\n",
       "  </thead>\n",
       "  <tbody>\n",
       "    <tr>\n",
       "      <th>0.0</th>\n",
       "      <td>1.0</td>\n",
       "      <td>2</td>\n",
       "    </tr>\n",
       "    <tr>\n",
       "      <th>1.0</th>\n",
       "      <td>1.0</td>\n",
       "      <td>2</td>\n",
       "    </tr>\n",
       "    <tr>\n",
       "      <th>2.0</th>\n",
       "      <td>2.0</td>\n",
       "      <td>4</td>\n",
       "    </tr>\n",
       "    <tr>\n",
       "      <th>3.0</th>\n",
       "      <td>3.0</td>\n",
       "      <td>6</td>\n",
       "    </tr>\n",
       "    <tr>\n",
       "      <th>4.0</th>\n",
       "      <td>5.0</td>\n",
       "      <td>8</td>\n",
       "    </tr>\n",
       "    <tr>\n",
       "      <th>5.0</th>\n",
       "      <td>6.0</td>\n",
       "      <td>10</td>\n",
       "    </tr>\n",
       "    <tr>\n",
       "      <th>6.0</th>\n",
       "      <td>8.0</td>\n",
       "      <td>12</td>\n",
       "    </tr>\n",
       "    <tr>\n",
       "      <th>7.0</th>\n",
       "      <td>7.0</td>\n",
       "      <td>14</td>\n",
       "    </tr>\n",
       "    <tr>\n",
       "      <th>9.0</th>\n",
       "      <td>4.0</td>\n",
       "      <td>6</td>\n",
       "    </tr>\n",
       "  </tbody>\n",
       "</table>\n",
       "</div>"
      ],
      "text/plain": [
       "          beds  accommodates\n",
       "bedrooms                    \n",
       "0.0        1.0             2\n",
       "1.0        1.0             2\n",
       "2.0        2.0             4\n",
       "3.0        3.0             6\n",
       "4.0        5.0             8\n",
       "5.0        6.0            10\n",
       "6.0        8.0            12\n",
       "7.0        7.0            14\n",
       "9.0        4.0             6"
      ]
     },
     "execution_count": 17,
     "metadata": {},
     "output_type": "execute_result"
    }
   ],
   "source": [
    "listings[~listings.beds.isna()].groupby(['bedrooms'])[['beds','accommodates']].median()"
   ]
  },
  {
   "cell_type": "markdown",
   "metadata": {},
   "source": [
    "- En generale : beds = bedrooms. En prend le cas bedrooms = 0 à part"
   ]
  },
  {
   "cell_type": "code",
   "execution_count": 18,
   "metadata": {},
   "outputs": [],
   "source": [
    "def fill_beds(row):\n",
    "    if row['bedrooms'] == 0.:\n",
    "        return 1\n",
    "    else: \n",
    "        return row['bedrooms']"
   ]
  },
  {
   "cell_type": "code",
   "execution_count": 19,
   "metadata": {},
   "outputs": [],
   "source": [
    "listings['beds'] = listings.apply(lambda row : fill_beds(row) if np.isnan(row['beds']) else row['beds'], axis=1 )"
   ]
  },
  {
   "cell_type": "markdown",
   "metadata": {},
   "source": [
    "## Attribut : bathrooms"
   ]
  },
  {
   "cell_type": "code",
   "execution_count": 20,
   "metadata": {},
   "outputs": [
    {
     "data": {
      "text/plain": [
       "1.0    41\n",
       "2.0     6\n",
       "3.0     1\n",
       "Name: bedrooms, dtype: int64"
      ]
     },
     "execution_count": 20,
     "metadata": {},
     "output_type": "execute_result"
    }
   ],
   "source": [
    "listings[listings.bathrooms.isna()]['bedrooms'].value_counts()"
   ]
  },
  {
   "cell_type": "markdown",
   "metadata": {},
   "source": [
    "- C'est essentiellement des données avec bedrooms = 1"
   ]
  },
  {
   "cell_type": "code",
   "execution_count": 21,
   "metadata": {},
   "outputs": [
    {
     "data": {
      "text/plain": [
       "bedrooms\n",
       "0.0    1.0\n",
       "1.0    1.0\n",
       "2.0    1.0\n",
       "3.0    2.0\n",
       "4.0    2.0\n",
       "5.0    3.0\n",
       "6.0    3.5\n",
       "7.0    6.0\n",
       "9.0    2.0\n",
       "Name: bathrooms, dtype: float64"
      ]
     },
     "execution_count": 21,
     "metadata": {},
     "output_type": "execute_result"
    }
   ],
   "source": [
    "listings[~listings.bathrooms.isna()].groupby('bedrooms')['bathrooms'].median()"
   ]
  },
  {
   "cell_type": "markdown",
   "metadata": {},
   "source": [
    "- pour bedrooms = 1,2 ou 3 on peut remplacer bathrooms par 1"
   ]
  },
  {
   "cell_type": "code",
   "execution_count": 22,
   "metadata": {},
   "outputs": [],
   "source": [
    "listings['bathrooms'] = listings['bathrooms'].map(lambda x: 1 if np.isnan(x) else x)"
   ]
  },
  {
   "cell_type": "markdown",
   "metadata": {},
   "source": [
    "## Attribut : host_is_superhost, is_location_exact & instant_bookable"
   ]
  },
  {
   "cell_type": "code",
   "execution_count": 23,
   "metadata": {},
   "outputs": [],
   "source": [
    "# !! pour host_is_superhost, les valleurs manquantes sont rempalcées par 0\n",
    "listings['host_is_superhost'] = listings['host_is_superhost'].map(lambda x: 1 if x=='t' else 0)\n",
    "listings['is_location_exact'] = listings['is_location_exact'].map(lambda x: 1 if x=='t' else 0)\n",
    "listings['instant_bookable']  = listings['instant_bookable'].map(lambda x: 1 if x=='t' else 0)"
   ]
  },
  {
   "cell_type": "markdown",
   "metadata": {},
   "source": [
    "## Attribut : calendar_updated"
   ]
  },
  {
   "cell_type": "code",
   "execution_count": 24,
   "metadata": {},
   "outputs": [
    {
     "data": {
      "text/plain": [
       "2 months ago     8525\n",
       "today            6239\n",
       "3 months ago     6201\n",
       "4 months ago     3254\n",
       "5 months ago     2218\n",
       "                 ... \n",
       "91 months ago       1\n",
       "80 months ago       1\n",
       "83 months ago       1\n",
       "99 months ago       1\n",
       "81 months ago       1\n",
       "Name: calendar_updated, Length: 98, dtype: int64"
      ]
     },
     "execution_count": 24,
     "metadata": {},
     "output_type": "execute_result"
    }
   ],
   "source": [
    "listings['calendar_updated'].value_counts()"
   ]
  },
  {
   "cell_type": "markdown",
   "metadata": {},
   "source": [
    "- On va considérer que le prix est mis à jour récement si c'est fait il y a mois de 2 mois"
   ]
  },
  {
   "cell_type": "code",
   "execution_count": 25,
   "metadata": {},
   "outputs": [],
   "source": [
    "recently = ('today', 'yesterday', 'days', 'week', 'weeks')\n",
    "def is_recent(x):\n",
    "    if 'months' in x :\n",
    "        if int(x.split(' ')[0]) <= 2:\n",
    "            return 1\n",
    "    else : \n",
    "        for t in recently:\n",
    "            if t in x :\n",
    "                return 1\n",
    "    return 0\n",
    "listings['price_recently_updated'] = listings['calendar_updated'].map(is_recent)"
   ]
  },
  {
   "cell_type": "code",
   "execution_count": 26,
   "metadata": {},
   "outputs": [],
   "source": [
    "listings = listings.drop(['calendar_updated', 'calendar_last_scraped'], axis = 1)"
   ]
  },
  {
   "cell_type": "markdown",
   "metadata": {},
   "source": [
    "## Attribut : cancellation_policy"
   ]
  },
  {
   "cell_type": "code",
   "execution_count": 27,
   "metadata": {},
   "outputs": [
    {
     "data": {
      "text/plain": [
       "flexible                       23406\n",
       "strict_14_with_grace_period    20200\n",
       "moderate                       16007\n",
       "super_strict_60                  252\n",
       "super_strict_30                   67\n",
       "strict                             3\n",
       "luxury_super_strict_95             2\n",
       "luxury_moderate                    1\n",
       "Name: cancellation_policy, dtype: int64"
      ]
     },
     "execution_count": 27,
     "metadata": {},
     "output_type": "execute_result"
    }
   ],
   "source": [
    "listings['cancellation_policy'].value_counts()"
   ]
  },
  {
   "cell_type": "code",
   "execution_count": 28,
   "metadata": {},
   "outputs": [],
   "source": [
    "cancellation_policy_dict = {'flexible':'flexible',\n",
    "                            'moderate':'moderate',\n",
    "                            'strict_14_with_grace_period':'strict',\n",
    "                            'super_strict_60':'strict',\n",
    "                            'super_strict_30':'strict',\n",
    "                            'luxury_super_strict_95':'strict',\n",
    "                            'luxury_moderate':'strict'}\n",
    "listings['cancellation_policy'] = listings['cancellation_policy'].map(cancellation_policy_dict)"
   ]
  },
  {
   "cell_type": "markdown",
   "metadata": {},
   "source": [
    "## Attribut : amenities"
   ]
  },
  {
   "cell_type": "code",
   "execution_count": 29,
   "metadata": {},
   "outputs": [
    {
     "data": {
      "text/plain": [
       "'{Wifi,Kitchen,Elevator,Heating,Washer,\"Smoke detector\",\"Carbon monoxide detector\",Essentials,Shampoo,Hangers,\"Hot water\"}'"
      ]
     },
     "execution_count": 29,
     "metadata": {},
     "output_type": "execute_result"
    }
   ],
   "source": [
    "listings.amenities.sample().iloc[0]"
   ]
  },
  {
   "cell_type": "code",
   "execution_count": 30,
   "metadata": {},
   "outputs": [],
   "source": [
    "amenities_set = set(['Essentials', \n",
    "                     'Wifi',\n",
    "                     'TV', \n",
    "                     'Kitchen', \n",
    "                     'Oven', \n",
    "                     'Cooking basics', \n",
    "                     'Heating', \n",
    "                     'Washer', \n",
    "                     'Host greets you', \n",
    "                     'Elevator', \n",
    "                     'Family/kid friendly', \n",
    "                     'Private living room', \n",
    "                     'Coffee maker', \n",
    "                     'Dishwasher'])"
   ]
  },
  {
   "cell_type": "code",
   "execution_count": 31,
   "metadata": {},
   "outputs": [],
   "source": [
    "for amenitie in amenities_set:\n",
    "    listings[amenitie] = listings['amenities'].map(lambda x: 1 if amenitie in x else 0)"
   ]
  },
  {
   "cell_type": "code",
   "execution_count": 32,
   "metadata": {},
   "outputs": [],
   "source": [
    "listings = listings.drop('amenities', axis=1)"
   ]
  },
  {
   "cell_type": "markdown",
   "metadata": {},
   "source": [
    "## Attribut : host_verifications"
   ]
  },
  {
   "cell_type": "code",
   "execution_count": 33,
   "metadata": {},
   "outputs": [
    {
     "data": {
      "text/plain": [
       "\"['email', 'phone', 'facebook', 'google', 'reviews', 'jumio', 'government_id']\""
      ]
     },
     "execution_count": 33,
     "metadata": {},
     "output_type": "execute_result"
    }
   ],
   "source": [
    "listings['host_verifications'].iloc[1]"
   ]
  },
  {
   "cell_type": "markdown",
   "metadata": {},
   "source": [
    "- si government_id, on considère que l'identité du host est vérifiée"
   ]
  },
  {
   "cell_type": "code",
   "execution_count": 34,
   "metadata": {},
   "outputs": [],
   "source": [
    "listings['host_identity_verified'] = listings['host_verifications'].map(lambda x : 1 if 'government_id' in x else 0)\n",
    "listings = listings.drop('host_verifications', axis=1)"
   ]
  },
  {
   "cell_type": "markdown",
   "metadata": {},
   "source": [
    "# 4 - Train & Test Data"
   ]
  },
  {
   "cell_type": "code",
   "execution_count": 35,
   "metadata": {},
   "outputs": [],
   "source": [
    "from sklearn.model_selection import train_test_split"
   ]
  },
  {
   "cell_type": "code",
   "execution_count": 36,
   "metadata": {},
   "outputs": [],
   "source": [
    "X = listings.drop('price', axis=1) \n",
    "y = listings['price']\n",
    "X_train, X_test, y_train, y_test = train_test_split(X,y, test_size=0.33, random_state=42)"
   ]
  },
  {
   "cell_type": "code",
   "execution_count": 37,
   "metadata": {},
   "outputs": [
    {
     "data": {
      "text/plain": [
       "(40159, 34)"
      ]
     },
     "execution_count": 37,
     "metadata": {},
     "output_type": "execute_result"
    }
   ],
   "source": [
    "X_train.shape"
   ]
  },
  {
   "cell_type": "code",
   "execution_count": 38,
   "metadata": {},
   "outputs": [
    {
     "data": {
      "text/plain": [
       "(19780, 34)"
      ]
     },
     "execution_count": 38,
     "metadata": {},
     "output_type": "execute_result"
    }
   ],
   "source": [
    "X_test.shape"
   ]
  },
  {
   "cell_type": "code",
   "execution_count": 39,
   "metadata": {},
   "outputs": [],
   "source": [
    "train_data = X_train.copy()\n",
    "train_data['price'] = y_train"
   ]
  },
  {
   "cell_type": "code",
   "execution_count": 40,
   "metadata": {},
   "outputs": [],
   "source": [
    "test_data = X_test.copy()\n",
    "test_data['price'] = y_test"
   ]
  },
  {
   "cell_type": "code",
   "execution_count": 41,
   "metadata": {},
   "outputs": [],
   "source": [
    "#train_data.to_csv('../input/dataset/airbnb_052020_train.csv')"
   ]
  },
  {
   "cell_type": "code",
   "execution_count": 42,
   "metadata": {},
   "outputs": [],
   "source": [
    "#test_data.to_csv('../input/dataset/airbnb_052020_test.csv')"
   ]
  },
  {
   "cell_type": "code",
   "execution_count": null,
   "metadata": {},
   "outputs": [],
   "source": []
  }
 ],
 "metadata": {
  "kernelspec": {
   "display_name": "Python 3",
   "language": "python",
   "name": "python3"
  },
  "language_info": {
   "codemirror_mode": {
    "name": "ipython",
    "version": 3
   },
   "file_extension": ".py",
   "mimetype": "text/x-python",
   "name": "python",
   "nbconvert_exporter": "python",
   "pygments_lexer": "ipython3",
   "version": "3.8.3"
  }
 },
 "nbformat": 4,
 "nbformat_minor": 4
}
